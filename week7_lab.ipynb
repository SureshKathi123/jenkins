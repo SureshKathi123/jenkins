{
 "cells": [
  {
   "cell_type": "code",
   "execution_count": 2,
   "id": "70c1884c-d4dc-4a5f-aa28-4f552112e4b2",
   "metadata": {},
   "outputs": [
    {
     "name": "stdout",
     "output_type": "stream",
     "text": [
      "confusion matrix is :\n",
      " [[109   1   0   0   0   0   0   0   0   0]\n",
      " [  0 128   1   0   0   0   0   1   0   0]\n",
      " [  0   7 106   2   0   1   1   2   2   0]\n",
      " [  0   1   0  96   0   3   0   1   0   0]\n",
      " [  0   3   0   0  84   0   0   0   0   5]\n",
      " [  1   4   0   4   0  77   2   0   1   0]\n",
      " [  2   2   0   0   0   0  94   0   0   0]\n",
      " [  0   3   0   0   0   0   0  97   0   3]\n",
      " [  0   2   1   3   0   6   0   1  79   1]\n",
      " [  2   0   0   3   2   0   0   4   0 102]]\n",
      "Classification Report:\n",
      "               precision    recall  f1-score   support\n",
      "\n",
      "           0       0.96      0.99      0.97       110\n",
      "           1       0.85      0.98      0.91       130\n",
      "           2       0.98      0.88      0.93       121\n",
      "           3       0.89      0.95      0.92       101\n",
      "           4       0.98      0.91      0.94        92\n",
      "           5       0.89      0.87      0.88        89\n",
      "           6       0.97      0.96      0.96        98\n",
      "           7       0.92      0.94      0.93       103\n",
      "           8       0.96      0.85      0.90        93\n",
      "           9       0.92      0.90      0.91       113\n",
      "\n",
      "    accuracy                           0.93      1050\n",
      "   macro avg       0.93      0.92      0.93      1050\n",
      "weighted avg       0.93      0.93      0.93      1050\n",
      "\n"
     ]
    }
   ],
   "source": [
    "import pandas as pd\n",
    "import matplotlib.pyplot as plt\n",
    "from sklearn.model_selection import train_test_split\n",
    "from sklearn.neighbors import KNeighborsClassifier\n",
    "from sklearn.tree import DecisionTreeClassifier\n",
    "from sklearn.naive_bayes import MultinomialNB\n",
    "from sklearn.metrics import confusion_matrix, classification_report, accuracy_score\n",
    "\n",
    "df=pd.read_csv(\"Week7_train.csv\")\n",
    "df.shape\n",
    "df_sample=df.sample(frac=0.1)\n",
    "X = df_sample.iloc[:,1:]\n",
    "Y = df_sample.iloc[:,0]\n",
    "X_train,X_test,Y_train,Y_test=train_test_split(X,Y,test_size=0.25)\n",
    "knn = KNeighborsClassifier(n_neighbors=5,metric='euclidean')\n",
    "knn.fit(X_train, Y_train)\n",
    "y_pred=knn.predict(X_test)\n",
    "cm=confusion_matrix(Y_test,y_pred)\n",
    "print(\"confusion matrix is :\\n\",cm)\n",
    "print(\"Classification Report:\\n\", classification_report(Y_test, y_pred))"
   ]
  },
  {
   "cell_type": "code",
   "execution_count": null,
   "id": "112d1ed3-b965-4915-a0fd-7f169333651a",
   "metadata": {},
   "outputs": [],
   "source": []
  }
 ],
 "metadata": {
  "kernelspec": {
   "display_name": "Python 3 (ipykernel)",
   "language": "python",
   "name": "python3"
  },
  "language_info": {
   "codemirror_mode": {
    "name": "ipython",
    "version": 3
   },
   "file_extension": ".py",
   "mimetype": "text/x-python",
   "name": "python",
   "nbconvert_exporter": "python",
   "pygments_lexer": "ipython3",
   "version": "3.11.7"
  }
 },
 "nbformat": 4,
 "nbformat_minor": 5
}
